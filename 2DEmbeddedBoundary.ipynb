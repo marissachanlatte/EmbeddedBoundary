{
 "cells": [
  {
   "cell_type": "code",
   "execution_count": 1,
   "metadata": {},
   "outputs": [],
   "source": [
    "import numpy as np\n",
    "from scipy.special import factorial\n",
    "import matplotlib.pyplot as plt\n",
    "import matplotlib.style as style\n",
    "from matplotlib import collections  as mc\n",
    "import seaborn as sns\n",
    "import pandas as pd\n",
    "style.use('ggplot')"
   ]
  },
  {
   "cell_type": "markdown",
   "metadata": {},
   "source": [
    "# Geometry Generation Functions"
   ]
  },
  {
   "cell_type": "code",
   "execution_count": 2,
   "metadata": {},
   "outputs": [],
   "source": [
    "### Multi-Index Functions\n",
    "\n",
    "def miFactorial(alpha):\n",
    "    return factorial(alpha).prod()\n",
    "\n",
    "\n",
    "def miBinomial(alpha, beta):\n",
    "    return (miFactorial(alpha) \n",
    "            /(miFactorial(beta)*miFactorial(alpha - beta)))"
   ]
  },
  {
   "cell_type": "code",
   "execution_count": 3,
   "metadata": {},
   "outputs": [],
   "source": [
    "def normal(x, partialPsi):\n",
    "    dx = partialPsi(x, np.array([1, 0]))\n",
    "    dy = partialPsi(x, np.array([0, 1]))\n",
    "    return (np.array([dx, dy])/(np.sqrt(dx**2 + dy**2))).T\n",
    "\n",
    "### Compute Derivatives of Normal ###\n",
    "def partialL(P, points, partialPsi, L):\n",
    "    # Initialize Quantities\n",
    "    partial_l = np.zeros(len(points))\n",
    "    for dim in range(1, D + 1):\n",
    "        e = np.zeros(D)\n",
    "        e[dim - 1] = 1\n",
    "        Q = (P - e).astype(int)\n",
    "        for r1 in range(Q[0] + 1):\n",
    "            for r2 in range(Q[1] + 1):\n",
    "                ### Loop Structure Hard Coded for D = 2\n",
    "                R = np.array([r1, r2])\n",
    "                binom = miBinomial(Q, R)\n",
    "                partial_l += binom*partialN(R, dim, points, partialPsi, L)*partialPsi(points, Q - R + 2*e)\n",
    "    return partial_l\n",
    " \n",
    "    \n",
    "def partialN(P, d, points, partialPsi, L):\n",
    "    ## Base Case\n",
    "    if np.array_equal(P, np.array([0, 0])):\n",
    "        return (normal(points, partialPsi))[:, d - 1]\n",
    "    e = np.zeros(D)\n",
    "    e[d - 1] = 1\n",
    "    deriv_sums = np.zeros(len(points))\n",
    "    for q1 in range(P[0] + 1):\n",
    "        for q2 in range(P[1] + 1):\n",
    "            ### Loop Structure Hard Coded for D=2 \n",
    "            Q = np.array([q1, q2])\n",
    "            if np.array_equal(Q, P):\n",
    "                continue\n",
    "            binom = miBinomial(P, Q)\n",
    "            deriv_sums += binom*partialL(P - Q, points, partialPsi, L)*partialN(Q, d, points, partialPsi, L)\n",
    "    partial_n = partialPsi(points, P + e) - deriv_sums\n",
    "    return partial_n/L(points)               "
   ]
  },
  {
   "cell_type": "markdown",
   "metadata": {},
   "source": [
    "## Main Algorithm"
   ]
  },
  {
   "cell_type": "markdown",
   "metadata": {},
   "source": [
    "#### 0. Compute Derivatives of the Normal"
   ]
  },
  {
   "cell_type": "code",
   "execution_count": 4,
   "metadata": {},
   "outputs": [],
   "source": [
    "def setup_normals(Q, num_cells, partialPsi, L):\n",
    "    normal_derivatives = np.zeros([Q+1, Q+1, num_cells, 2])\n",
    "    for q_mag in range(Q, -1, -1):\n",
    "        for q1 in range(q_mag+1):\n",
    "            q = np.array([q1, q_mag - q1])\n",
    "            normal_derivatives[q1, q_mag - q1, :, 0] = partialN(q, 1, points, partialPsi, L)\n",
    "            normal_derivatives[q1, q_mag - q1, :, 1] = partialN(q, 2, points, partialPsi, L)\n",
    "    return normal_derivatives"
   ]
  },
  {
   "cell_type": "markdown",
   "metadata": {},
   "source": [
    "##### 1. Compute One-Dimensional Moments $M_{V, 1}^q$"
   ]
  },
  {
   "cell_type": "code",
   "execution_count": 5,
   "metadata": {},
   "outputs": [],
   "source": [
    "def compute_1d_moments(num_cells, points, h, intersection, type='line'):\n",
    "    # Sets Up Volume Fraction for Edges of Cells\n",
    "    # left, upper, right, lower\n",
    "\n",
    "    vol_frac_1d = np.zeros([num_cells, 4])\n",
    "    # Iterate Through Cells\n",
    "    for cell in range(num_cells):\n",
    "        # Center point\n",
    "        center = points[cell]\n",
    "        # Find values at corners\n",
    "        ll = center + np.array([-h/2, -h/2])\n",
    "        ul = center + np.array([-h/2, h/2])\n",
    "        ur = center + np.array([h/2, h/2])\n",
    "        lr = center + np.array([h/2, -h/2])\n",
    "        corners = np.array([ll, ul, ur, lr])\n",
    "        if type == 'circle':\n",
    "            inside = corners[:, 0]**2 + corners[:, 1]**2 < 1\n",
    "            inside_inclusive = corners[:, 0]**2 + corners[:, 1]**2 <= 1\n",
    "            outside_inclusive = corners[:, 0]**2 + corners[:, 1]**2 >= 1\n",
    "        if type == 'line':\n",
    "            # Hard coding for line x=y\n",
    "            inside = corners[:, 0] > corners[:, 1]\n",
    "            inside_inclusive = corners[:, 0] >= corners[:, 1]\n",
    "            outside_inclusive = corners[:, 0] <= corners[:, 1]\n",
    "        # Determine If Cell is Inside/Outside/Boundary\n",
    "        # Note: This ignores a lot of edge/corner cases. Need to Revisit. \n",
    "        if inside_inclusive.all(): # cell entirely in boundary\n",
    "            vol_frac_1d[cell, :] = h\n",
    "        elif outside_inclusive.all(): # cell entirely outside boundary\n",
    "            pass\n",
    "        else: # boundary intersects cell\n",
    "            # If Boundary Determine which edges intersect Boundary\n",
    "            for i in range(4):\n",
    "                if inside[i] == inside[(i+1)%4]: # no change from corner to corner\n",
    "                    vol_frac_1d[cell, i] = h*int(inside[i])\n",
    "                else: # change indicating boundary passes through\n",
    "                    # is this edge vertical or horizontal?\n",
    "                    if (corners[i] - corners[(i+1)%4])[0] == 0: # horizontal\n",
    "                        # find the intersection of x=corners[i, 0]\n",
    "                        y = intersection(corners[i, 0])\n",
    "                        if type == 'circle':\n",
    "                            if corners[i, 1] < 0:\n",
    "                                y = -y\n",
    "                        frac = np.abs(y - corners[i, 1])\n",
    "                        if inside[i]:\n",
    "                            vol_frac_1d[cell, i] = frac\n",
    "                        else:\n",
    "                            vol_frac_1d[cell, i] = h - frac\n",
    "                    else: # vertical\n",
    "                        # find the intersection of y=corners[i, 1]\n",
    "                        x = intersection(corners[i, 1])\n",
    "                        if type == 'circle':\n",
    "                            if corners[i, 0] < 0:\n",
    "                                x = -x\n",
    "                        frac = np.abs(x - corners[i, 0])\n",
    "                        if inside[i]:\n",
    "                            vol_frac_1d[cell, i] = frac\n",
    "                        else:\n",
    "                            vol_frac_1d[cell, i] = h - frac\n",
    "    return vol_frac_1d"
   ]
  },
  {
   "cell_type": "code",
   "execution_count": 6,
   "metadata": {},
   "outputs": [],
   "source": [
    "def d_integral(beginning, end, q, index, fixed_value):\n",
    "    next_plus = q[(index+1)%2] + 1\n",
    "    return fixed_value**q[index]*(1/(next_plus))*(end**next_plus - beginning**next_plus)"
   ]
  },
  {
   "cell_type": "markdown",
   "metadata": {},
   "source": [
    "#### 2. Irregular One-Dimensional Moments $M_{B, 1}^q$ Are 0 "
   ]
  },
  {
   "cell_type": "markdown",
   "metadata": {},
   "source": [
    "#### 3. Main Loop"
   ]
  },
  {
   "cell_type": "code",
   "execution_count": 7,
   "metadata": {},
   "outputs": [],
   "source": [
    "def calc_d(bd_length, fixed_value, h, cell_center, q, d, which_d, type='circle'):\n",
    "    d_op = (d+1)%2\n",
    "    if bd_length == h:\n",
    "        d_pm = d_integral(cell_center[d_op] - h/2, cell_center[d_op] + h/2, q, d, fixed_value)\n",
    "    elif bd_length > 0:\n",
    "        # check points\n",
    "        corner = cell_center + np.array([h/2, h/2])*which_d\n",
    "        if type == 'circle':\n",
    "            intersection = circleIntersection(fixed_value)\n",
    "            if corner[d_op] < 0:\n",
    "                intersection = -intersection\n",
    "            if np.sum(corner**2) <= 1: # upper corner is inside\n",
    "                d_pm = d_integral(intersection, corner[d_op], q, d, fixed_value)\n",
    "            else: # lower corner is inside\n",
    "                d_pm = d_integral(corner[d_op] - h, intersection, q, d, fixed_value)\n",
    "        elif type == \"line\":\n",
    "            if corner[0] >= corner[1]:\n",
    "                d_pm = d_integral(lineIntersection(fixed_value), corner[d_op], q, d, fixed_value)\n",
    "            else:\n",
    "                d_pm = d_integral(corner[d_op] - h, lineIntersection(fixed_value), q, d, fixed_value)\n",
    "    else: d_pm = 0\n",
    "    return d_pm"
   ]
  },
  {
   "cell_type": "code",
   "execution_count": 8,
   "metadata": {},
   "outputs": [],
   "source": [
    "def main(Q, num_cells, vol_frac_1d, points, h, normal_derivatives, type='line'):\n",
    "    volume_moments = np.zeros((Q+1, Q+1, num_cells))\n",
    "    boundary_moments = np.zeros((Q+1, Q+1, num_cells))\n",
    "    for cell in range(num_cells):\n",
    "        for q_mag in range(Q, -1, -1):\n",
    "            rho = []\n",
    "            full_lhs = []\n",
    "\n",
    "            for q1 in range(q_mag+1):\n",
    "                q = np.array([q1, q_mag - q1])\n",
    "                for d in range(2):\n",
    "                    e = np.zeros(2)\n",
    "                    e[d] = 1\n",
    "                    \n",
    "\n",
    "                    # Set d_plus and d_minus\n",
    "                    if d == 0:\n",
    "                        # calculate d_plus\n",
    "                        ptve_bd_length = vol_frac_1d[cell, 2]\n",
    "                        fixed_ptve_x = points[cell, 0] + h/2\n",
    "                        d_plus = calc_d(ptve_bd_length, fixed_ptve_x, h, points[cell], q, d, np.array([1, 1]), \n",
    "                                        type=type)\n",
    "\n",
    "                        # calculate d_minus\n",
    "                        ntve_bd_length = vol_frac_1d[cell, 0]\n",
    "                        fixed_ntve_x = points[cell, 0] - h/2\n",
    "                        d_minus = calc_d(ntve_bd_length, fixed_ntve_x, h, points[cell], q, d, np.array([-1, 1]),\n",
    "                                        type=type)\n",
    "                    \n",
    "                    elif d == 1:\n",
    "                        # calculate d_plus\n",
    "                        ptve_bd_length = vol_frac_1d[cell, 1]\n",
    "                        fixed_ptve_y = points[cell, 1] + h/2\n",
    "                        d_plus = calc_d(ptve_bd_length, fixed_ptve_y, h, points[cell], q, d, np.array([1, 1]),\n",
    "                                       type=type)\n",
    "\n",
    "                        # calculate d_minus\n",
    "                        ntve_bd_length = vol_frac_1d[cell, 3]\n",
    "                        fixed_ntve_y = points[cell, 1] - h/2\n",
    "                        d_minus = calc_d(ntve_bd_length, fixed_ntve_y, h, points[cell], q, d, np.array([1, -1]),\n",
    "                                        type=type)\n",
    "\n",
    "                    s_sum = 0\n",
    "                    S = Q - q_mag\n",
    "                    for s1 in range(S+1):\n",
    "                        for s2 in range(S+1):\n",
    "                            s = np.array([s1, s2])\n",
    "                            if s.sum() >= S:\n",
    "                                continue\n",
    "                            elif s.sum() < 1:\n",
    "                                continue\n",
    "                            s_sum += normal_derivatives[s1, s2, cell, d]*boundary_moments[q[0]+s1, q[1]+s2, cell]\n",
    "                    lhs = np.zeros(2*q_mag + 1)\n",
    "                    q_minus_e = q - e\n",
    "                    if (q_minus_e >= 0).all(): # Throwing Away qs with negative values\n",
    "                        lhs[int(q_minus_e[0])] = q[d]\n",
    "                    # M_B Unknowns (stored based on value of q[0])\n",
    "                    lhs[q_mag + q[0]] = -normal_derivatives[0, 0, cell, d]\n",
    "\n",
    "\n",
    "                    full_lhs.append(lhs)\n",
    "                    rho.append(d_plus - d_minus + s_sum)\n",
    "\n",
    "            # Solve For MV, MB\n",
    "            v_and_b = np.linalg.lstsq(np.array(full_lhs), np.array(rho), rcond=None)\n",
    "\n",
    "            # Unpack v and b               \n",
    "            values = v_and_b[0]\n",
    "            for i in range(q_mag):\n",
    "                volume_moments[i, q_mag - 1 - i, cell] = values[i]\n",
    "            for i in range(q_mag+1):\n",
    "                boundary_moments[i, q_mag - i, cell] = values[q_mag + i]\n",
    "    return volume_moments, boundary_moments"
   ]
  },
  {
   "cell_type": "markdown",
   "metadata": {},
   "source": [
    "# Problem Set Up"
   ]
  },
  {
   "cell_type": "markdown",
   "metadata": {},
   "source": [
    "The boundary equation is the zero level set of $\\psi(\\mathbf{x})$\n",
    "$$ \\psi( \\mathbf{x} ) = x_1^2 + x_2^2 - 1 $$"
   ]
  },
  {
   "cell_type": "code",
   "execution_count": 9,
   "metadata": {},
   "outputs": [],
   "source": [
    "### Global Variables ###\n",
    "D = 2\n",
    "\n",
    "\n",
    "### HARD CODED FOR PSI(X) = X^2 + Y^2 - 1 ###########\n",
    "def partialPsiCircle(x, order):\n",
    "    if np.array_equal(order, np.array([0, 0])):\n",
    "        return x[:, 0]**2 + x[:, 1]**2 - 1\n",
    "    elif np.array_equal(order, np.array([1, 0])) or np.array_equal(order, np.array([0, 1])):\n",
    "        return 2*(order[0]*x[:, 0] + order[1]*x[:, 1])\n",
    "    elif np.array_equal(order, np.array([2, 0])) or np.array_equal(order, np.array([0, 2])):\n",
    "        return 2*np.ones(len(x))\n",
    "    else:\n",
    "        return 0*np.ones(len(x))\n",
    "\n",
    "\n",
    "def circleL(x):\n",
    "    return 2*np.sqrt(x[:, 0]**2 + x[:, 1]**2)\n",
    "\n",
    "\n",
    "def circleIntersection(x):\n",
    "    return np.sqrt(1 - x**2)\n",
    "#################################################### "
   ]
  },
  {
   "cell_type": "code",
   "execution_count": 10,
   "metadata": {},
   "outputs": [
    {
     "data": {
      "image/png": "[encoded data removed]",
      "text/plain": [
       "<Figure size 432x288 with 1 Axes>"
      ]
     },
     "metadata": {},
     "output_type": "display_data"
    }
   ],
   "source": [
    "# Set Up Function\n",
    "x = np.linspace(-1.0, 1.0, 100)\n",
    "y = np.linspace(-1.0, 1.0, 100)\n",
    "X, Y = np.meshgrid(x,y)\n",
    "F = X**2 + Y**2 - 1\n",
    "\n",
    "# Calculate Normals\n",
    "level_zero = np.column_stack((X[np.abs(F) <= .001], Y[np.abs(F) <= .001]))\n",
    "normals = normal(level_zero, partialPsiCircle)\n",
    "ends = normals + level_zero\n",
    "list_zero = list(zip(level_zero[:, 0], level_zero[:, 1]))\n",
    "list_ends = list(zip(ends[:, 0], ends[:, 1]))\n",
    "points = [[list_zero[i], list_ends[i]] for i in range(len(level_zero))]\n",
    "\n",
    "fig, ax = plt.subplots()\n",
    "plt.contour(X,Y,F,[0])\n",
    "plt.grid(True)\n",
    "plt.xticks(np.linspace(-1.25, 1.25, 11), rotation='vertical')\n",
    "plt.yticks(np.linspace(-1.25, 1.25, 11))\n",
    "plt.axis('equal')\n",
    "plt.axis((-1.25,1.25,-1.25,1.25))\n",
    "plt.title(\"The Boundary Function and Normals\")\n",
    "\n",
    "# # Plot Normals\n",
    "# line_segments = mc.LineCollection(points)\n",
    "# ax.add_collection(line_segments)\n",
    "plt.show()"
   ]
  },
  {
   "cell_type": "code",
   "execution_count": 11,
   "metadata": {},
   "outputs": [],
   "source": [
    "# Cell Centers\n",
    "h = .25\n",
    "a = -1.125\n",
    "b = 1.125\n",
    "x = np.linspace(a, b, 10)\n",
    "y = np.linspace(a, b, 10)\n",
    "X, Y = np.meshgrid(x,y)\n",
    "points = np.array(list(zip(X.flatten(), Y.flatten())))\n",
    "num_cells = len(points)"
   ]
  },
  {
   "cell_type": "code",
   "execution_count": 12,
   "metadata": {},
   "outputs": [],
   "source": [
    "# Global Variables\n",
    "Q = 1"
   ]
  },
  {
   "cell_type": "code",
   "execution_count": 13,
   "metadata": {
    "scrolled": true
   },
   "outputs": [],
   "source": [
    "# Setup Normals\n",
    "normal_derivatives = setup_normals(Q, num_cells, partialPsiCircle, circleL)\n",
    "# Compute 1d Moments\n",
    "vol_frac_1d = compute_1d_moments(num_cells, points, h, circleIntersection, type=\"circle\")\n",
    "# Main Loop\n",
    "volume_moments_circle, boundary_moments = main(Q, num_cells, vol_frac_1d, points, h, normal_derivatives, type='circle')"
   ]
  },
  {
   "cell_type": "code",
   "execution_count": 14,
   "metadata": {},
   "outputs": [
    {
     "data": {
      "text/plain": [
       "3.110655881660596"
      ]
     },
     "execution_count": 14,
     "metadata": {},
     "output_type": "execute_result"
    }
   ],
   "source": [
    "volume_moments_circle[0, 0, :].sum()"
   ]
  },
  {
   "cell_type": "code",
   "execution_count": 15,
   "metadata": {},
   "outputs": [
    {
     "data": {
      "image/png": "[encoded data removed]",
      "text/plain": [
       "<Figure size 432x288 with 2 Axes>"
      ]
     },
     "metadata": {},
     "output_type": "display_data"
    }
   ],
   "source": [
    "data = {'x': points[:, 0], 'y': points[:, 1], 'area': volume_moments_circle[0, 0]}\n",
    "df = pd.DataFrame(data=data)\n",
    "pivot = df.pivot(index='y', columns='x', values='area')\n",
    "ax = sns.heatmap(pivot)\n",
    "ax.invert_yaxis()"
   ]
  },
  {
   "cell_type": "markdown",
   "metadata": {},
   "source": [
    "#### Mesh Refinement"
   ]
  },
  {
   "cell_type": "code",
   "execution_count": 16,
   "metadata": {},
   "outputs": [
    {
     "name": "stderr",
     "output_type": "stream",
     "text": [
      "/Users/marissaramirez/py3env/lib/python3.6/site-packages/ipykernel_launcher.py:9: DeprecationWarning: object of type <class 'float'> cannot be safely interpreted as an integer.\n",
      "  if __name__ == '__main__':\n",
      "/Users/marissaramirez/py3env/lib/python3.6/site-packages/ipykernel_launcher.py:10: DeprecationWarning: object of type <class 'float'> cannot be safely interpreted as an integer.\n",
      "  # Remove the CWD from sys.path while we load stuff.\n"
     ]
    }
   ],
   "source": [
    "Q = 2\n",
    "area_err = []\n",
    "all_cells = []\n",
    "for i in range(7):\n",
    "    # Cell Centers\n",
    "    h = 1/(2**i)\n",
    "    a = -1 - h/2\n",
    "    b = 1 + h/2\n",
    "    x = np.linspace(a, b, 2/h + 2)\n",
    "    y = np.linspace(a, b, 2/h + 2)\n",
    "    X, Y = np.meshgrid(x,y)\n",
    "    points = np.array(list(zip(X.flatten(), Y.flatten())))\n",
    "    num_cells = len(points)\n",
    "    all_cells.append(h)\n",
    "    \n",
    "    # Setup Normals\n",
    "    normal_derivatives = setup_normals(Q, num_cells, partialPsiCircle, circleL)\n",
    "    # Compute 1d Moments\n",
    "    vol_frac_1d = compute_1d_moments(num_cells, points, h, circleIntersection, type=\"circle\")\n",
    "    # Main Loop\n",
    "    volume_moments_circle, boundary_moments = main(Q, num_cells, vol_frac_1d, points, h, normal_derivatives, type='circle')\n",
    "    area = volume_moments_circle[0, 0, :].sum()\n",
    "    area_err.append(np.abs(np.pi - area))"
   ]
  },
  {
   "cell_type": "code",
   "execution_count": 17,
   "metadata": {},
   "outputs": [
    {
     "data": {
      "image/png": "[encoded data removed]",
      "text/plain": [
       "<Figure size 432x288 with 1 Axes>"
      ]
     },
     "metadata": {},
     "output_type": "display_data"
    }
   ],
   "source": [
    "plt.loglog(all_cells, area_err, label=\"Error\")\n",
    "plt.loglog(all_cells, np.array(all_cells)**2, linestyle=\"--\", label=\"2nd Order Convergence\")\n",
    "plt.title(\"Error with Mesh Refinement\")\n",
    "plt.ylabel(\"Error\")\n",
    "plt.xlabel(\"h\")\n",
    "plt.legend()\n",
    "plt.show()"
   ]
  },
  {
   "cell_type": "markdown",
   "metadata": {},
   "source": [
    "# Problem 2 Setup"
   ]
  },
  {
   "cell_type": "markdown",
   "metadata": {},
   "source": [
    "The boundary equation is the zero level set of $\\psi(\\mathbf{x})$\n",
    "$$ \\psi( \\mathbf{x} ) = y - x $$"
   ]
  },
  {
   "cell_type": "code",
   "execution_count": 18,
   "metadata": {},
   "outputs": [],
   "source": [
    "Q = 1\n",
    "### HARD CODED FOR PSI(X, Y) = Y - X ###########\n",
    "def partialPsiLine(x, order):\n",
    "    if np.array_equal(order, np.array([0, 0])):\n",
    "        return x[:, 1] - x[:, 0] \n",
    "    elif np.array_equal(order, np.array([1, 0])) or np.array_equal(order, np.array([0, 1])):\n",
    "        return order[1]*np.ones(len(x)) - order[0]*np.ones(len(x))\n",
    "    else:\n",
    "        return 0*np.ones(len(x))\n",
    "\n",
    "\n",
    "def lineL(x):\n",
    "    return np.sqrt(x[:, 1]**2 - x[:, 0]**2)\n",
    "\n",
    "\n",
    "def lineIntersection(x):\n",
    "    return x\n",
    "#################################################### "
   ]
  },
  {
   "cell_type": "code",
   "execution_count": 19,
   "metadata": {},
   "outputs": [
    {
     "data": {
      "image/png": "[encoded data removed]",
      "text/plain": [
       "<Figure size 432x288 with 1 Axes>"
      ]
     },
     "metadata": {},
     "output_type": "display_data"
    }
   ],
   "source": [
    "# Set Up Function\n",
    "x = np.linspace(-1.0, 1.0, 100)\n",
    "y = np.linspace(-1.0, 1.0, 100)\n",
    "X, Y = np.meshgrid(x,y)\n",
    "F = Y - X\n",
    "\n",
    "# Calculate Normals\n",
    "level_zero = np.column_stack((X[np.abs(F) <= .001], Y[np.abs(F) <= .001]))\n",
    "normals = normal(level_zero, partialPsiLine)\n",
    "ends = normals + level_zero\n",
    "list_zero = list(zip(level_zero[:, 0], level_zero[:, 1]))\n",
    "list_ends = list(zip(ends[:, 0], ends[:, 1]))\n",
    "points = [[list_zero[i], list_ends[i]] for i in range(len(level_zero))]\n",
    "\n",
    "fig, ax = plt.subplots()\n",
    "plt.contour(X,Y,F,[0])\n",
    "plt.grid(True)\n",
    "plt.xticks(np.linspace(-1.25, 1.25, 11), rotation='vertical')\n",
    "plt.yticks(np.linspace(-1.25, 1.25, 11))\n",
    "plt.axis('equal')\n",
    "plt.axis((-1.25,1.25,-1.25,1.25))\n",
    "plt.title(\"The Boundary Function and Normals\")\n",
    "\n",
    "# Plot Normals\n",
    "line_segments = mc.LineCollection(points)\n",
    "ax.add_collection(line_segments)\n",
    "plt.show()"
   ]
  },
  {
   "cell_type": "code",
   "execution_count": 20,
   "metadata": {},
   "outputs": [],
   "source": [
    "# Cell Centers\n",
    "h = .25\n",
    "a = -1.125\n",
    "b = 1.125\n",
    "x = np.linspace(a, b, 10)\n",
    "y = np.linspace(a, b, 10)\n",
    "X, Y = np.meshgrid(x,y)\n",
    "points = np.array(list(zip(X.flatten(), Y.flatten())))\n",
    "num_cells = len(points)"
   ]
  },
  {
   "cell_type": "code",
   "execution_count": 21,
   "metadata": {},
   "outputs": [
    {
     "name": "stderr",
     "output_type": "stream",
     "text": [
      "/Users/marissaramirez/py3env/lib/python3.6/site-packages/ipykernel_launcher.py:13: RuntimeWarning: invalid value encountered in sqrt\n",
      "  del sys.path[0]\n",
      "/Users/marissaramirez/py3env/lib/python3.6/site-packages/ipykernel_launcher.py:39: RuntimeWarning: invalid value encountered in true_divide\n"
     ]
    }
   ],
   "source": [
    "# Setup Normals\n",
    "normal_derivatives = setup_normals(Q, num_cells, partialPsiLine, lineL)\n",
    "# Compute 1d Moments\n",
    "vol_frac_1d = compute_1d_moments(num_cells, points, h, lineIntersection, type='line')\n",
    "# Main Loop\n",
    "volume_moments_line, boundary_moments = main(Q, num_cells, vol_frac_1d, points, h, normal_derivatives, type='line')"
   ]
  },
  {
   "cell_type": "code",
   "execution_count": 22,
   "metadata": {},
   "outputs": [
    {
     "data": {
      "image/png": "[encoded data removed]",
      "text/plain": [
       "<Figure size 432x288 with 2 Axes>"
      ]
     },
     "metadata": {},
     "output_type": "display_data"
    }
   ],
   "source": [
    "data = {'x': points[:, 0], 'y': points[:, 1], 'area': volume_moments_line[0, 0]}\n",
    "df = pd.DataFrame(data=data)\n",
    "pivot = df.pivot(index='y', columns='x', values='area')\n",
    "ax = sns.heatmap(pivot)\n",
    "ax.invert_yaxis()"
   ]
  },
  {
   "cell_type": "code",
   "execution_count": null,
   "metadata": {},
   "outputs": [],
   "source": []
  }
 ],
 "metadata": {
  "kernelspec": {
   "display_name": "Python 2",
   "language": "python",
   "name": "python2"
  },
  "language_info": {
   "codemirror_mode": {
    "name": "ipython",
    "version": 3
   },
   "file_extension": ".py",
   "mimetype": "text/x-python",
   "name": "python",
   "nbconvert_exporter": "python",
   "pygments_lexer": "ipython3",
   "version": "3.6.5"
  }
 },
 "nbformat": 4,
 "nbformat_minor": 2
}
