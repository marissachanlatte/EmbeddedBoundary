{
 "cells": [
  {
   "cell_type": "code",
   "execution_count": 1,
   "id": "c1d15580",
   "metadata": {},
   "outputs": [],
   "source": [
    "import numpy as np"
   ]
  },
  {
   "cell_type": "code",
   "execution_count": 4,
   "id": "1f7bb47a",
   "metadata": {},
   "outputs": [
    {
     "name": "stdout",
     "output_type": "stream",
     "text": [
      "[[0.35881576 0.24369805 0.11186812]\n",
      " [0.16504056 0.194529   0.14723024]\n",
      " [0.38576903 0.28590848 0.68305778]]\n"
     ]
    },
    {
     "data": {
      "text/plain": [
       "array([[ 5.73623901, -8.49728908,  0.89209962],\n",
       "       [-3.53445779, 12.76002046, -2.17151127],\n",
       "       [-1.76021991, -0.54198504,  1.86910846]])"
      ]
     },
     "execution_count": 4,
     "metadata": {},
     "output_type": "execute_result"
    }
   ],
   "source": [
    "matrix = np.random.rand(3,3)\n",
    "print(matrix)\n",
    "np.linalg.pinv(matrix)"
   ]
  },
  {
   "cell_type": "code",
   "execution_count": null,
   "id": "13aa8d42",
   "metadata": {},
   "outputs": [],
   "source": []
  }
 ],
 "metadata": {
  "kernelspec": {
   "display_name": "Python 3",
   "language": "python",
   "name": "python3"
  },
  "language_info": {
   "codemirror_mode": {
    "name": "ipython",
    "version": 3
   },
   "file_extension": ".py",
   "mimetype": "text/x-python",
   "name": "python",
   "nbconvert_exporter": "python",
   "pygments_lexer": "ipython3",
   "version": "3.9.1"
  }
 },
 "nbformat": 4,
 "nbformat_minor": 5
}
